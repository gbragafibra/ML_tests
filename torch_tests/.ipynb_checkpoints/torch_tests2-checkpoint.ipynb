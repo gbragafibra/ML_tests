{
 "cells": [
  {
   "cell_type": "code",
   "execution_count": 1,
   "id": "684b5bf2-aa78-4838-8f5e-d59dadbd1829",
   "metadata": {},
   "outputs": [],
   "source": [
    "import numpy as np\n",
    "import torch\n",
    "import torch.nn as nn\n",
    "from torch.optim import SGD\n",
    "import torch.nn.functional as F"
   ]
  },
  {
   "cell_type": "code",
   "execution_count": 2,
   "id": "cc082915-3ecf-42cf-9c85-88176fcf826d",
   "metadata": {},
   "outputs": [],
   "source": [
    "x = torch.tensor([[1, 2], [5,6], [1,4], [6,10]]).float()\n",
    "y = torch.tensor([1, 6, 6, 1]).float()"
   ]
  },
  {
   "cell_type": "code",
   "execution_count": 3,
   "id": "d80dbed3-7499-4e90-b1d8-95b70af16e1b",
   "metadata": {},
   "outputs": [
    {
     "data": {
      "text/plain": [
       "Parameter containing:\n",
       "tensor([[-0.4372, -0.2673],\n",
       "        [ 0.1283,  0.4099],\n",
       "        [-0.2584, -0.6839],\n",
       "        [ 0.4687, -0.4776],\n",
       "        [ 0.3518, -0.3385],\n",
       "        [ 0.4593, -0.3109],\n",
       "        [ 0.3105, -0.3533],\n",
       "        [ 0.0894,  0.5536]], requires_grad=True)"
      ]
     },
     "execution_count": 3,
     "metadata": {},
     "output_type": "execute_result"
    }
   ],
   "source": [
    "m1 = nn.Linear(x.shape[1], 8, bias = False)\n",
    "m1.weight"
   ]
  },
  {
   "cell_type": "code",
   "execution_count": 4,
   "id": "e7b6d6fd-0f8a-4ba1-bc36-6b7e68cb6739",
   "metadata": {},
   "outputs": [
    {
     "data": {
      "text/plain": [
       "tensor([-1.9435,  1.8961, -3.2523, -0.9730, -0.6504, -0.3252, -0.7922,  2.3933],\n",
       "       grad_fn=<SqueezeBackward4>)"
      ]
     },
     "execution_count": 4,
     "metadata": {},
     "output_type": "execute_result"
    }
   ],
   "source": [
    "a = torch.tensor([2,4]).float()\n",
    "m1(a) #example"
   ]
  },
  {
   "cell_type": "code",
   "execution_count": 5,
   "id": "31638541-c590-41b7-9381-c4d4515f938f",
   "metadata": {},
   "outputs": [],
   "source": [
    "m2 = nn.Linear(8, 1, bias = False)"
   ]
  },
  {
   "cell_type": "code",
   "execution_count": 6,
   "id": "dd86d24c-2221-448a-9103-f88dfb50aea0",
   "metadata": {},
   "outputs": [
    {
     "data": {
      "text/plain": [
       "tensor([-0.5307, -1.9976, -0.8587, -2.8563], grad_fn=<ViewBackward0>)"
      ]
     },
     "execution_count": 6,
     "metadata": {},
     "output_type": "execute_result"
    }
   ],
   "source": [
    "m2(m1(x)).flatten() #Our initial preds"
   ]
  },
  {
   "cell_type": "code",
   "execution_count": 7,
   "id": "697aaad4-c78b-4adb-8696-a14b0db26ebc",
   "metadata": {},
   "outputs": [],
   "source": [
    "class Net(nn.Module):\n",
    "    def __init__(self):\n",
    "        super().__init__()\n",
    "        self.W1 = nn.Linear(2, 8, bias = False)\n",
    "        self.W2 = nn.Linear(8, 1, bias = False)\n",
    "\n",
    "    def forward(self, x):\n",
    "        x = self.W2(self.W1(x))\n",
    "        return x.flatten()"
   ]
  },
  {
   "cell_type": "code",
   "execution_count": 8,
   "id": "293bf8a4-3ba8-4d04-8d92-f68e79b346dd",
   "metadata": {},
   "outputs": [],
   "source": [
    "net = Net()\n",
    "y_pred = net.forward(x)"
   ]
  },
  {
   "cell_type": "code",
   "execution_count": 9,
   "id": "c291641a-cdb0-4e3f-8350-3b4f8bc1ecac",
   "metadata": {},
   "outputs": [
    {
     "name": "stdout",
     "output_type": "stream",
     "text": [
      "Parameter containing:\n",
      "tensor([[-0.2703,  0.5650],\n",
      "        [ 0.5402,  0.5253],\n",
      "        [-0.5799, -0.0301],\n",
      "        [ 0.2937, -0.4334],\n",
      "        [ 0.1808, -0.1734],\n",
      "        [ 0.5064, -0.4860],\n",
      "        [ 0.4886,  0.3153],\n",
      "        [ 0.4069, -0.3986]], requires_grad=True)\n",
      "Parameter containing:\n",
      "tensor([[ 0.2112,  0.2771,  0.2714, -0.1731,  0.2921,  0.0576, -0.0760,  0.0412]],\n",
      "       requires_grad=True)\n"
     ]
    }
   ],
   "source": [
    "for param in net.parameters():\n",
    "    print(param)"
   ]
  },
  {
   "cell_type": "code",
   "execution_count": 10,
   "id": "ae0335b3-21cd-4a8d-b40f-dcd08dd69f68",
   "metadata": {},
   "outputs": [
    {
     "data": {
      "text/plain": [
       "tensor(13.2637, grad_fn=<MseLossBackward0>)"
      ]
     },
     "execution_count": 10,
     "metadata": {},
     "output_type": "execute_result"
    }
   ],
   "source": [
    "Loss = nn.MSELoss()\n",
    "Loss(y, y_pred)"
   ]
  },
  {
   "cell_type": "code",
   "execution_count": 11,
   "id": "ba4873fd-d71e-45c0-94a1-d44a84a30b55",
   "metadata": {},
   "outputs": [],
   "source": [
    "opt = SGD(net.parameters(), lr = 0.005)"
   ]
  },
  {
   "cell_type": "code",
   "execution_count": 12,
   "id": "6e795fd8-2db5-4233-b098-18f014ad1d1d",
   "metadata": {},
   "outputs": [
    {
     "data": {
      "text/plain": [
       "Text(0, 0.5, 'MSE loss')"
      ]
     },
     "execution_count": 12,
     "metadata": {},
     "output_type": "execute_result"
    },
    {
     "data": {
      "image/png": "[encoded data removed]",
      "text/plain": [
       "<Figure size 640x480 with 1 Axes>"
      ]
     },
     "metadata": {},
     "output_type": "display_data"
    }
   ],
   "source": [
    "import matplotlib.pyplot as plt\n",
    "losses = []\n",
    "epochs = 50\n",
    "\n",
    "for _ in range(epochs):\n",
    "    opt.zero_grad() #Reset grads\n",
    "    loss_val = Loss(net(x), y)\n",
    "    loss_val.backward()\n",
    "    opt.step()\n",
    "    losses.append(loss_val.item())\n",
    "\n",
    "plt.plot(np.arange(epochs), losses, \"k\")\n",
    "plt.xlabel(\"Epoch\")\n",
    "plt.ylabel(\"MSE loss\")"
   ]
  }
 ],
 "metadata": {
  "kernelspec": {
   "display_name": "Python 3 (ipykernel)",
   "language": "python",
   "name": "python3"
  },
  "language_info": {
   "codemirror_mode": {
    "name": "ipython",
    "version": 3
   },
   "file_extension": ".py",
   "mimetype": "text/x-python",
   "name": "python",
   "nbconvert_exporter": "python",
   "pygments_lexer": "ipython3",
   "version": "3.10.13"
  }
 },
 "nbformat": 4,
 "nbformat_minor": 5
}
