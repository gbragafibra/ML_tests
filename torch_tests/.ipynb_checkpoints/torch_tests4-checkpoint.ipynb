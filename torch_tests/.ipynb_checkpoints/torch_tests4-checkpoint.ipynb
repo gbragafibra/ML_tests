{
 "cells": [
  {
   "cell_type": "code",
   "execution_count": 1,
   "id": "6cb6177b-99fa-4217-88d3-418a0b11821e",
   "metadata": {},
   "outputs": [
    {
     "name": "stderr",
     "output_type": "stream",
     "text": [
      "/home/fibra/anaconda3/lib/python3.10/site-packages/torch/cuda/__init__.py:619: UserWarning: Can't initialize NVML\n",
      "  warnings.warn(\"Can't initialize NVML\")\n"
     ]
    }
   ],
   "source": [
    "import numpy as np\n",
    "import torch\n",
    "import torch.nn as nn\n",
    "from torch.optim import SGD\n",
    "import torch.nn.functional as F\n",
    "import matplotlib.pyplot as plt\n",
    "from torch.utils.data import Dataset, DataLoader\n",
    "import torchvision"
   ]
  },
  {
   "cell_type": "code",
   "execution_count": 18,
   "id": "e12a7ccb-bfe1-4364-8250-c82c8a7e6cb2",
   "metadata": {},
   "outputs": [],
   "source": [
    "x_train, y_train = torch.load(\"MNIST/MNIST/processed/training.pt\")"
   ]
  },
  {
   "cell_type": "code",
   "execution_count": 20,
   "id": "d26724ca-0682-4ea9-a03f-9e37248a5154",
   "metadata": {},
   "outputs": [
    {
     "data": {
      "text/plain": [
       "torch.Size([60000, 28, 28])"
      ]
     },
     "execution_count": 20,
     "metadata": {},
     "output_type": "execute_result"
    }
   ],
   "source": [
    "x_train.shape #60000 imgs"
   ]
  },
  {
   "cell_type": "code",
   "execution_count": 13,
   "id": "9bb7832c-85fc-453a-9933-e9d845164022",
   "metadata": {},
   "outputs": [
    {
     "data": {
      "text/plain": [
       "<matplotlib.colorbar.Colorbar at 0x7f0736527e50>"
      ]
     },
     "execution_count": 13,
     "metadata": {},
     "output_type": "execute_result"
    },
    {
     "data": {
      "image/png": "[encoded data removed]",
      "text/plain": [
       "<Figure size 640x480 with 2 Axes>"
      ]
     },
     "metadata": {},
     "output_type": "display_data"
    }
   ],
   "source": [
    "plt.imshow(x_train[2].numpy())\n",
    "plt.title(f\"Number {y_train[2]}\")\n",
    "plt.colorbar()"
   ]
  },
  {
   "cell_type": "code",
   "execution_count": 26,
   "id": "1e140d20-e0c0-4a3a-b5a0-4cc52df7a242",
   "metadata": {},
   "outputs": [
    {
     "name": "stdout",
     "output_type": "stream",
     "text": [
      "tensor(5)\n",
      "tensor([0, 0, 0, 0, 0, 1, 0, 0, 0, 0])\n"
     ]
    }
   ],
   "source": [
    "# Do one hot encoding for labels\n",
    "y_train2 = F.one_hot(y_train, num_classes = 10)\n",
    "y_train2.shape\n",
    "print(y_train[0])\n",
    "print(y_train2[0]) # it's a 5 encoded"
   ]
  },
  {
   "cell_type": "code",
   "execution_count": 32,
   "id": "5d4e9015-9b4a-41b7-a465-44852258a9d0",
   "metadata": {},
   "outputs": [
    {
     "data": {
      "text/plain": [
       "torch.Size([60000, 784])"
      ]
     },
     "execution_count": 32,
     "metadata": {},
     "output_type": "execute_result"
    }
   ],
   "source": [
    "x_train = x_train.reshape(-1, 28**2)\n",
    "x_train.shape"
   ]
  },
  {
   "cell_type": "code",
   "execution_count": 43,
   "id": "6b752d99-4cb0-47bd-9a7b-9b24dc61fac7",
   "metadata": {},
   "outputs": [],
   "source": [
    "class Data(Dataset):\n",
    "    def __init__(self, path):\n",
    "        self.x, self.y = torch.load(path)\n",
    "        self.x = self.x / 255.\n",
    "        self.y = F.one_hot(self.y, num_classes = 10).to(float)\n",
    "    def __len__(self):\n",
    "        return self.x.shape[0]\n",
    "    def __getitem__(self, idx):\n",
    "        return self.x[idx], self.y[idx]"
   ]
  },
  {
   "cell_type": "code",
   "execution_count": 44,
   "id": "04090ecd-9b88-47cd-8fa7-c1d6055a1db0",
   "metadata": {},
   "outputs": [],
   "source": [
    "train_data = Data(\"MNIST/MNIST/processed/training.pt\")\n",
    "test_data = Data(\"MNIST/MNIST/processed/test.pt\")"
   ]
  },
  {
   "cell_type": "code",
   "execution_count": 50,
   "id": "195eba38-f3e7-4cf5-8df4-fbd417c8abf2",
   "metadata": {},
   "outputs": [
    {
     "data": {
      "text/plain": [
       "12000"
      ]
     },
     "execution_count": 50,
     "metadata": {},
     "output_type": "execute_result"
    }
   ],
   "source": [
    "train_batch = DataLoader(train_data, batch_size = 5)\n",
    "len(train_batch) # 12k batches"
   ]
  },
  {
   "cell_type": "code",
   "execution_count": 95,
   "id": "b20c5e95-c2f1-4f36-86f0-6aecdae3e43b",
   "metadata": {},
   "outputs": [],
   "source": [
    "class Net(nn.Module):\n",
    "    def __init__(self):\n",
    "        super().__init__()\n",
    "        self.W1 = nn.Linear(28**2, 100)\n",
    "        self.W2 = nn.Linear(100, 50)\n",
    "        self.W3 = nn.Linear(50, 10)\n",
    "        self.R = nn.ReLU()\n",
    "        self.S = nn.Softmax()\n",
    "\n",
    "    def forward(self, x):\n",
    "        x = x.reshape(-1, 28**2)\n",
    "        x = self.R(self.W1(x))\n",
    "        x = self.R(self.W2(x))\n",
    "        x = self.S(self.W3(x))\n",
    "        return x.squeeze()"
   ]
  },
  {
   "cell_type": "code",
   "execution_count": 96,
   "id": "c8bc699b-e672-481e-b882-ee52b8581c83",
   "metadata": {},
   "outputs": [
    {
     "data": {
      "text/plain": [
       "tensor([[0.0954, 0.1055, 0.0881, 0.1090, 0.0951, 0.1090, 0.1067, 0.0918, 0.0989,\n",
       "         0.1006],\n",
       "        [0.0982, 0.1074, 0.0858, 0.1025, 0.0925, 0.1102, 0.1096, 0.0937, 0.0967,\n",
       "         0.1034],\n",
       "        [0.0948, 0.1061, 0.0939, 0.1061, 0.0932, 0.1103, 0.1051, 0.0945, 0.0955,\n",
       "         0.1005],\n",
       "        [0.0958, 0.1074, 0.0927, 0.1080, 0.0919, 0.1079, 0.1039, 0.0939, 0.0978,\n",
       "         0.1009]], grad_fn=<SqueezeBackward0>)"
      ]
     },
     "execution_count": 96,
     "metadata": {},
     "output_type": "execute_result"
    }
   ],
   "source": [
    "xs, ys = train_data[:4]\n",
    "N = Net()\n",
    "N.forward(xs) #without opt"
   ]
  },
  {
   "cell_type": "code",
   "execution_count": 102,
   "id": "96c6d9d3-edb2-4d33-8b44-b0e475dd3673",
   "metadata": {},
   "outputs": [
    {
     "name": "stdout",
     "output_type": "stream",
     "text": [
      "Epoch 1\n",
      "Epoch 2\n",
      "Epoch 3\n",
      "Epoch 4\n",
      "Epoch 5\n",
      "Epoch 6\n",
      "Epoch 7\n",
      "Epoch 8\n",
      "Epoch 9\n",
      "Epoch 10\n"
     ]
    }
   ],
   "source": [
    "def train(data, net, epochs_num, α, plot = False):\n",
    "    network = net()\n",
    "    opt = SGD(network.parameters(), lr = α)\n",
    "    l = nn.CrossEntropyLoss()\n",
    "    losses = []\n",
    "    epochs = []\n",
    "    for epoch in range(epochs_num):\n",
    "        print(f\"Epoch {epoch + 1}\")\n",
    "        N = len(data)\n",
    "        for i, (x, y) in enumerate(data):\n",
    "            opt.zero_grad()\n",
    "            loss = l(network(x), y)\n",
    "            loss.backward()\n",
    "            opt.step()\n",
    "            losses.append(loss.item())\n",
    "            epochs.append(epoch + i/N)\n",
    "    if plot:\n",
    "        plt.plot(epochs, losses, \"k\")\n",
    "        plt.xlabel(\"Epoch\")\n",
    "        plt.ylabel(\"CE loss\")\n",
    "\n",
    "    return epochs, losses\n",
    "\n",
    "epochs, losses = train(train_batch, Net, 10, 0.05, plot = False)"
   ]
  },
  {
   "cell_type": "code",
   "execution_count": 106,
   "id": "6c2ea3ed-570c-4473-a5ff-4771630644be",
   "metadata": {},
   "outputs": [
    {
     "data": {
      "text/plain": [
       "Text(0, 0.5, 'CE loss')"
      ]
     },
     "execution_count": 106,
     "metadata": {},
     "output_type": "execute_result"
    },
    {
     "data": {
      "image/png": "[encoded data removed]",
      "text/plain": [
       "<Figure size 640x480 with 1 Axes>"
      ]
     },
     "metadata": {},
     "output_type": "display_data"
    }
   ],
   "source": [
    "epochs_avg = np.array(epochs).reshape(10, -1).mean(axis = 1)\n",
    "losses_avg = np.array(losses).reshape(10, -1).mean(axis = 1)\n",
    "plt.plot(epochs_avg, losses_avg, \"ko--\")\n",
    "plt.xlabel(\"Epoch\")\n",
    "plt.ylabel(\"CE loss\")"
   ]
  }
 ],
 "metadata": {
  "kernelspec": {
   "display_name": "Python 3 (ipykernel)",
   "language": "python",
   "name": "python3"
  },
  "language_info": {
   "codemirror_mode": {
    "name": "ipython",
    "version": 3
   },
   "file_extension": ".py",
   "mimetype": "text/x-python",
   "name": "python",
   "nbconvert_exporter": "python",
   "pygments_lexer": "ipython3",
   "version": "3.10.13"
  }
 },
 "nbformat": 4,
 "nbformat_minor": 5
}
